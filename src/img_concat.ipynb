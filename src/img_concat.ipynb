{
 "cells": [
  {
   "cell_type": "code",
   "execution_count": 1,
   "metadata": {},
   "outputs": [],
   "source": [
    "from PIL import Image\n",
    "import os\n",
    "\n",
    "def resize_all(images):\n",
    "    widths, heights = zip(*(im.size for im in images))\n",
    "    mw, mh = max(widths), max(heights)\n",
    "    return [im.resize((mw, mh)) for im in images]\n",
    "\n",
    "def concate_imgs(images, file_path='./out.png', direction='h'):\n",
    "    def _horizon():\n",
    "        total_width = sum(widths)\n",
    "        max_height = max(heights)\n",
    "        new_im = Image.new('RGB', (total_width, max_height))\n",
    "        x_offset = 0\n",
    "        for im in images:\n",
    "            new_im.paste(im, (x_offset, 0))\n",
    "            x_offset += im.size[0]\n",
    "        return new_im\n",
    "    def _vertical():\n",
    "        width = max(widths)\n",
    "        height = sum(heights)\n",
    "        new_im = Image.new('RGB', (width, height))\n",
    "        y_offset = 0\n",
    "        for im in images:\n",
    "            new_im.paste(im, (0, y_offset))\n",
    "            y_offset += im.size[1]\n",
    "        return new_im\n",
    "    \n",
    "    images = resize_all(images)\n",
    "    widths, heights = zip(*(im.size for im in images))\n",
    "    if direction == 'h':\n",
    "        new_im = _horizon()\n",
    "    elif direction == 'v':\n",
    "        new_im = _vertical()\n",
    "    else: raise ValueError(f\"direction {direction} is not within ['h', 'v']\")\n",
    "    new_im.save(file_path)"
   ]
  },
  {
   "cell_type": "code",
   "execution_count": 5,
   "metadata": {},
   "outputs": [],
   "source": [
    "import argparse\n",
    "parser = argparse.ArgumentParser()\n",
    "parser.add_argument(\"square\", type=int,\n",
    "                    help=\"display a square of a given number\")\n",
    "parser.add_argument(\"-v\", \"--verbose\", action=\"store_true\",\n",
    "                    help=\"increase output verbosity\")\n",
    "args = parser.parse_args()\n",
    "\n",
    "filelist = [x for x in os.listdir('.') if '.png' in x]\n",
    "\n",
    "images = [Image.open(x) for x in filelist]\n",
    "concate_imgs(images, direction='v', file_path='out_v.png')"
   ]
  },
  {
   "cell_type": "code",
   "execution_count": null,
   "metadata": {},
   "outputs": [],
   "source": []
  }
 ],
 "metadata": {
  "kernelspec": {
   "display_name": "base",
   "language": "python",
   "name": "python3"
  },
  "language_info": {
   "codemirror_mode": {
    "name": "ipython",
    "version": 3
   },
   "file_extension": ".py",
   "mimetype": "text/x-python",
   "name": "python",
   "nbconvert_exporter": "python",
   "pygments_lexer": "ipython3",
   "version": "3.9.12"
  }
 },
 "nbformat": 4,
 "nbformat_minor": 2
}
