{
 "cells": [
  {
   "cell_type": "code",
   "execution_count": 2,
   "metadata": {},
   "outputs": [],
   "source": [
    "from PyPDF2 import PdfWriter, PdfReader\n",
    "\n",
    "def pdf_split(pdf_in,pdf_out,start,end):\n",
    "    # 初始化一个pdf\n",
    "    writer = PdfWriter()\n",
    "    # 读取pdf\n",
    "    reader = PdfReader(pdf_in)\n",
    "    for i in range(start, end):\n",
    "            writer.add_page(reader.pages[i])\n",
    "    # 写出pdf\n",
    "    with open(pdf_out, 'wb') as fp:\n",
    "        writer.write(fp)"
   ]
  },
  {
   "cell_type": "code",
   "execution_count": 3,
   "metadata": {},
   "outputs": [],
   "source": [
    "pdf_in  = 'in.pdf'\n",
    "pdf_out = 'out.pdf'\n",
    "s,e = 259-1, 282          # (s, e]\n",
    "pdf_split(pdf_in, pdf_out, s, e)"
   ]
  },
  {
   "cell_type": "code",
   "execution_count": null,
   "metadata": {},
   "outputs": [],
   "source": []
  }
 ],
 "metadata": {
  "kernelspec": {
   "display_name": "base",
   "language": "python",
   "name": "python3"
  },
  "language_info": {
   "codemirror_mode": {
    "name": "ipython",
    "version": 3
   },
   "file_extension": ".py",
   "mimetype": "text/x-python",
   "name": "python",
   "nbconvert_exporter": "python",
   "pygments_lexer": "ipython3",
   "version": "3.9.12"
  },
  "orig_nbformat": 4,
  "vscode": {
   "interpreter": {
    "hash": "19d1d53a962d236aa061289c2ac16dc8e6d9648c89fe79f459ae9a3493bc67b4"
   }
  }
 },
 "nbformat": 4,
 "nbformat_minor": 2
}
