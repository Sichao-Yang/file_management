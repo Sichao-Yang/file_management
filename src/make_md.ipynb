{
 "cells": [
  {
   "cell_type": "code",
   "execution_count": 2,
   "metadata": {},
   "outputs": [],
   "source": [
    "import os\n",
    "from os import path as osp\n",
    "pdfs = [x for x in os.listdir('.') if osp.isfile(x) and '.ipynb' not in x]"
   ]
  },
  {
   "cell_type": "code",
   "execution_count": 15,
   "metadata": {},
   "outputs": [],
   "source": [
    "from pdf2image import convert_from_path\n",
    "# split slide pdfs\n",
    "for pdf in pdfs:\n",
    "    title = pdf.split('.')[0]\n",
    "    dir = osp.join(f'media/{title}')\n",
    "    os.makedirs(dir, exist_ok=True)\n",
    "    # Store Pdf with convert_from_path function\n",
    "    images = convert_from_path(pdf)\n",
    "    for i in range(len(images)):\n",
    "        # Save pages as images in the pdf\n",
    "        fp = osp.join(dir, \"{:02d}.jpg\".format(i))\n",
    "        images[i].save(fp, \"JPEG\")"
   ]
  },
  {
   "cell_type": "code",
   "execution_count": 16,
   "metadata": {},
   "outputs": [],
   "source": [
    "# import shutil\n",
    "# os.makedirs('media',exist_ok=True)\n",
    "# for pdf in pdfs:\n",
    "#     shutil.move(pdf.split('.')[0], 'media')"
   ]
  },
  {
   "cell_type": "code",
   "execution_count": 19,
   "metadata": {},
   "outputs": [],
   "source": [
    "for pdf in pdfs:\n",
    "    title = pdf.split('.')[0]\n",
    "    imgs = sorted(os.listdir(f'media/{title}'))\n",
    "    with open(osp.join(title+'.md'), 'w') as fp:\n",
    "        fp.write(f'# {title}\\n\\n')\n",
    "        for fn in imgs:\n",
    "            fp.write(f\"![img](media/{title}/{fn})\\n\\n\")"
   ]
  }
 ],
 "metadata": {
  "kernelspec": {
   "display_name": "torch15",
   "language": "python",
   "name": "python3"
  },
  "language_info": {
   "codemirror_mode": {
    "name": "ipython",
    "version": 3
   },
   "file_extension": ".py",
   "mimetype": "text/x-python",
   "name": "python",
   "nbconvert_exporter": "python",
   "pygments_lexer": "ipython3",
   "version": "3.9.7"
  }
 },
 "nbformat": 4,
 "nbformat_minor": 2
}
